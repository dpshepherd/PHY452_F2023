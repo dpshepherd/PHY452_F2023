{
  "nbformat": 4,
  "nbformat_minor": 0,
  "metadata": {
    "colab": {
      "provenance": [],
      "authorship_tag": "ABX9TyMIrcqKlHq8EDf3rnRj2LHg",
      "include_colab_link": true
    },
    "kernelspec": {
      "name": "python3",
      "display_name": "Python 3"
    },
    "language_info": {
      "name": "python"
    }
  },
  "cells": [
    {
      "cell_type": "markdown",
      "metadata": {
        "id": "view-in-github",
        "colab_type": "text"
      },
      "source": [
        "<a href=\"https://colab.research.google.com/github/dpshepherd/PHY452_F2023/blob/main/HW10_off_axis_hologram.ipynb\" target=\"_parent\"><img src=\"https://colab.research.google.com/assets/colab-badge.svg\" alt=\"Open In Colab\"/></a>"
      ]
    },
    {
      "cell_type": "markdown",
      "source": [
        "# Unmixing off-axis hologram data"
      ],
      "metadata": {
        "id": "i2s2oUpXHl1l"
      }
    },
    {
      "cell_type": "markdown",
      "source": [
        "# Exercise goal\n",
        "The goal of this exercise is to unmix the off-axis digital hologram image that you have been provided.\n",
        "\n",
        "# Experiment background\n",
        "\n",
        "You have been provided an off-axis hologram image of a [$10 \\mu m$ polystyrene microsphere](https://www.thermofisher.com/order/catalog/product/F8836) embedded in microscopy oil ($n=1.5$) between two glass coverslips ($n=1.515$). The laser source is a [stabilized $785$ nm laser diode](https://www.thorlabs.com/thorproduct.cfm?partnumber=FPL785P). The incident beam k-vector lies along the optical axis and the angle of the off-axis reference beam, with respect to the optical axis, is unknown.\n",
        "\n",
        "The camera is has a pixel size of $10 \\mu m$ and the imaging system has an overall imaging magnfication of $100\\times$, yielding an effective pixel size of $0.1 \\mu m$. The detection objective is a water immersion model with $NA = 1.0$.\n",
        "\n",
        "# Theory background\n",
        "\n",
        "Building on our previous lectures, we know that the electric field, $E(x,y)$ at the plane of interference (the camera sensor) is given by,\n",
        "\n",
        "$E(x,y) = |R(x,y)|^2 + |O(x,y)|^2 + O^*(x,y)R(x,y) + O(x,y)R^*(x,y)$,\n",
        "\n",
        "with $R$ denoting the reference field and $O$ denoting the object field.\n",
        "\n",
        "It is useful to think about the real space and reciprocal space configuration just before the camera (see class notes).\n",
        "\n",
        "Generally, we try to satisfy $\\alpha_{max} \\sim \\frac{\\lambda}{2 \\Delta x}$, where $\\Delta x$ is the effective camera pixel spacing. This ensure that all of the holographic data is contained within the accessible frequency space given the discrete pixel sizes.\n",
        "\n",
        "It is easiest to unmix the holograms in the Fourier domain,\n",
        "\n",
        "$\\mathcal{F}[E(x,y)] = \\mathcal{F}[|R(x,y)|^2 + |O(x,y)|^2] + \\mathcal{F}[O^*(x,y)R(x,y)] + \\mathcal{F}[O(x,y)R^*(x,y)]$.\n",
        "\n",
        "Remember that $R(x,y) = E_Re^{-i\\vec{k}_R \\cdot \\vec{r}}$, which we can plug into the terms we are interested in above to give,\n",
        "\n",
        "$\\mathcal{F}[O^*(x,y)R(x,y)] = \\tilde{O}(\\vec{k})^* \\ast \\mathcal{F}[E_Re^{+i\\vec{k}_R \\cdot \\vec{r}}] $,\n",
        "\n",
        "and\n",
        "\n",
        "$\\mathcal{F}[O(x,y)R^*(x,y)] = \\tilde{O}(\\vec{k}) \\ast \\mathcal{F}[E_Re^{-i\\vec{k}_R \\cdot \\vec{r}}] $.\n",
        "\n",
        "These contain redundant information, so we will just focus on the second equation. Pratically, it will be fine for unmixing.\n",
        "\n",
        "From HW #4-5 and our practice with the Fourier shift thm., we know that that $\\mathcal{F}[E_Re^{+i\\vec{k}_R \\cdot \\vec{r}}] = \\delta (\\vec{k}+\\vec{k}_R)$, yielding,\n",
        "\n",
        "$\\mathcal{F}[O(x,y)R^*(x,y)] = \\tilde{O}(\\vec{k}) \\ast \\delta (\\vec{k}+\\vec{k}_R)] = \\tilde{O}(\\vec{k}+\\vec{k}_R)$.\n",
        "\n",
        "The quantity we are interested in is $\\tilde{O}(\\vec{k})$, which means we need to use the shift thm. and the known reference frequencies to shift back.\n",
        "\n",
        "$\\tilde{O}(k) = \\tilde{O}(\\vec{k}+\\vec{k}_R) \\ast \\mathcal{F}[E_Re^{-i\\vec{k}_R \\cdot \\vec{r}}]$.\n",
        "\n",
        "That means from our data, we need to:\n",
        "1. Find and isolate the area of the digital hologram in reciprocal space that corresponds to $\\mathcal{F}[O(x,y)R^*(x,y)]$.\n",
        "2. Find the reference frequency, $\\vec{k}_R$.\n",
        "3. Use the Fourier shift thm. to shift the digital hologram in reciprocal space.\n",
        "4. Take the inverse discrete Fourier Transform to obtain the electric fields that correspond to the incident + scattered field from the object.\n"
      ],
      "metadata": {
        "id": "czVwqHOrHqzp"
      }
    },
    {
      "cell_type": "markdown",
      "source": [
        "# Computational approach"
      ],
      "metadata": {
        "id": "sNonkgHo84by"
      }
    },
    {
      "cell_type": "markdown",
      "source": [
        "### load Python computational and plotting libraries"
      ],
      "metadata": {
        "id": "tunIgVGrADqB"
      }
    },
    {
      "cell_type": "code",
      "source": [
        "import numpy as np\n",
        "import matplotlib.pyplot as plt\n",
        "import matplotlib.image as mpimg\n",
        "from google.colab import files"
      ],
      "metadata": {
        "id": "1sq4frcLADcM"
      },
      "execution_count": null,
      "outputs": []
    },
    {
      "cell_type": "markdown",
      "source": [
        "### Load the raw off-axis hologram."
      ],
      "metadata": {
        "id": "UlHOEolI9yx_"
      }
    },
    {
      "cell_type": "code",
      "execution_count": null,
      "metadata": {
        "id": "NwiYoTtYHjWH"
      },
      "outputs": [],
      "source": [
        "raw_data = files.upload()"
      ]
    },
    {
      "cell_type": "markdown",
      "source": [
        "### Create spatial coordinates using pixel spacing with center pixel corresponding to $(x=0,y=0)$."
      ],
      "metadata": {
        "id": "MipwE50K9-9e"
      }
    },
    {
      "cell_type": "code",
      "source": [],
      "metadata": {
        "id": "UOSGS3Sa-M8i"
      },
      "execution_count": null,
      "outputs": []
    },
    {
      "cell_type": "markdown",
      "source": [
        "### Calculate discrete Fourier Transform using [numpy.fft](https://numpy.org/doc/stable/reference/routines.fft.html)."
      ],
      "metadata": {
        "id": "hFtoaDG0-NWO"
      }
    },
    {
      "cell_type": "code",
      "source": [],
      "metadata": {
        "id": "4m1eTwSP-aKW"
      },
      "execution_count": null,
      "outputs": []
    },
    {
      "cell_type": "markdown",
      "source": [
        "### Ensure center pixel of FFT corresponds to $(k_x=0,k_y=0)$ and the pixel spacing is correct in reciprocal space."
      ],
      "metadata": {
        "id": "oF0NXXVm-alY"
      }
    },
    {
      "cell_type": "code",
      "source": [],
      "metadata": {
        "id": "XoHEYFkB-v7m"
      },
      "execution_count": null,
      "outputs": []
    },
    {
      "cell_type": "markdown",
      "source": [
        "### Determine reference beam frequency ($k_R$)."
      ],
      "metadata": {
        "id": "-TGk8U8D_D8l"
      }
    },
    {
      "cell_type": "code",
      "source": [],
      "metadata": {
        "id": "5MKAMvcv_Kg9"
      },
      "execution_count": null,
      "outputs": []
    },
    {
      "cell_type": "markdown",
      "source": [
        "### Clear data outside of desired off-axis component (either $\\mathcal{F}[O^*R]$ or $\\mathcal{F}[OR^*]$)."
      ],
      "metadata": {
        "id": "b0B8G4dJ-wSg"
      }
    },
    {
      "cell_type": "code",
      "source": [],
      "metadata": {
        "id": "LIEplPSS_Lx8"
      },
      "execution_count": null,
      "outputs": []
    },
    {
      "cell_type": "markdown",
      "source": [
        "### Use Fourier shift thm. to recover $\\tilde{O}(k_x,k_y)$.\n"
      ],
      "metadata": {
        "id": "XIYKLaVD_MUC"
      }
    },
    {
      "cell_type": "code",
      "source": [],
      "metadata": {
        "id": "OOpNGHJp_WK_"
      },
      "execution_count": null,
      "outputs": []
    },
    {
      "cell_type": "markdown",
      "source": [
        "### Finally, use the inverse FFT to recover $O(x,y)$."
      ],
      "metadata": {
        "id": "c0wXUhnF_sWi"
      }
    },
    {
      "cell_type": "code",
      "source": [],
      "metadata": {
        "id": "PdvRgPTSAuYh"
      },
      "execution_count": null,
      "outputs": []
    },
    {
      "cell_type": "markdown",
      "source": [
        "### Does $O(x,y)$ match your expectations? What more can you learn about the object based on what we have done in class?"
      ],
      "metadata": {
        "id": "LCR8sLDPAvS0"
      }
    },
    {
      "cell_type": "markdown",
      "source": [],
      "metadata": {
        "id": "-YBX_CSlA7aN"
      }
    }
  ]
}