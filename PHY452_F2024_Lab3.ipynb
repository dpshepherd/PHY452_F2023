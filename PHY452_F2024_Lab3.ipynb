{
  "nbformat": 4,
  "nbformat_minor": 0,
  "metadata": {
    "colab": {
      "provenance": [],
      "authorship_tag": "ABX9TyOokb3QSzPdcxwXY75mzeW2",
      "include_colab_link": true
    },
    "kernelspec": {
      "name": "python3",
      "display_name": "Python 3"
    },
    "language_info": {
      "name": "python"
    }
  },
  "cells": [
    {
      "cell_type": "markdown",
      "metadata": {
        "id": "view-in-github",
        "colab_type": "text"
      },
      "source": [
        "<a href=\"https://colab.research.google.com/github/dpshepherd/PHY452_F2023/blob/main/PHY452_F2024_Lab3.ipynb\" target=\"_parent\"><img src=\"https://colab.research.google.com/assets/colab-badge.svg\" alt=\"Open In Colab\"/></a>"
      ]
    },
    {
      "cell_type": "markdown",
      "source": [
        "# Unmixing off-axis hologram data"
      ],
      "metadata": {
        "id": "i2s2oUpXHl1l"
      }
    },
    {
      "cell_type": "markdown",
      "source": [
        "# Exercise goal\n",
        "The goal of this lab is to unmix the off-axis digital hologram image that you have been provided.\n",
        "\n",
        "# Experiment background\n",
        "\n",
        "You have been provided two off-axis hologram images of a [$10 \\mu m$ polystyrene microspheres](https://www.thermofisher.com/order/catalog/product/F8836) embedded in glue ($n=1.5$) between two glass coverslips ($n=1.515$). The laser source is a [stabilized $785$ nm laser diode](https://www.thorlabs.com/thorproduct.cfm?partnumber=FPL785P). The incident beam k-vector lies along the optical axis and the angle of the off-axis reference beam, with respect to the optical axis, is unknown.\n",
        "\n",
        "The camera is has a pixel size of $10 \\mu m$ and the imaging system has an overall imaging magnfication of $180\\times$, yielding an effective pixel size of $0.075 \\mu m$. The detection objective is a water immersion model with $NA = 1.0$.\n",
        "\n",
        "# Theory background\n",
        "\n",
        "Building on our previous lectures, we know that the electric field, $E(x,y)$ at the plane of interference (the camera sensor) is given by,\n",
        "\n",
        "$|E(x,y)|^2 = |R(x,y)|^2 + |O(x,y)|^2 + O^*(x,y)R(x,y) + O(x,y)R^*(x,y)$,\n",
        "\n",
        "with $R$ denoting the reference field and $O$ denoting the object field.\n",
        "\n",
        "It is useful to think about the real space and reciprocal space configuration just before the camera (see class notes).\n",
        "\n",
        "Generally, we try to satisfy $\\alpha_{max} \\sim \\frac{\\lambda}{2 \\Delta x}$, where $\\Delta x$ is the effective camera pixel spacing. This ensure that all of the holographic data is contained within the accessible frequency space given the discrete pixel sizes.\n",
        "\n",
        "It is easiest to unmix the holograms in the Fourier domain,\n",
        "\n",
        "$\\mathcal{F}[|E(x,y)|^2] = \\mathcal{F}[|R(x,y)|^2 + |O(x,y)|^2] + \\mathcal{F}[O^*(x,y)R(x,y)] + \\mathcal{F}[O(x,y)R^*(x,y)]$.\n",
        "\n",
        "Remember that $R(x,y) = E_Re^{-i\\vec{k}_R \\cdot \\vec{r}}$, which we can plug into the terms we are interested in above to give ($\\ast$ denotes convolution),\n",
        "\n",
        "$\\mathcal{F}[O^*(x,y)R(x,y)] = \\tilde{O}(\\vec{k})^* \\ast \\mathcal{F}[E_Re^{+i\\vec{k}_R \\cdot \\vec{r}}] $,\n",
        "\n",
        "and\n",
        "\n",
        "$\\mathcal{F}[O(x,y)R^*(x,y)] = \\tilde{O}(\\vec{k}) \\ast \\mathcal{F}[E_Re^{-i\\vec{k}_R \\cdot \\vec{r}}] $.\n",
        "\n",
        "These contain redundant information, so we will just focus on the second equation. Pratically, it will be fine for unmixing.\n",
        "\n",
        "From HW #4-5 and our practice with the Fourier shift thm., we know that that $\\mathcal{F}[E_Re^{+i\\vec{k}_R \\cdot \\vec{r}}] = \\delta (\\vec{k}+\\vec{k}_R)$, yielding,\n",
        "\n",
        "$\\mathcal{F}[O(x,y)R^*(x,y)] = \\tilde{O}(\\vec{k}) \\ast \\delta (\\vec{k}+\\vec{k}_R)] = \\tilde{O}(\\vec{k}+\\vec{k}_R)$.\n",
        "\n",
        "The quantity we are interested in is $\\tilde{O}(\\vec{k})$, which means we need to use the shift thm. and the known reference frequencies to shift back.\n",
        "\n",
        "$\\tilde{O}(k) = \\tilde{O}(\\vec{k}+\\vec{k}_R) \\ast \\mathcal{F}[E_Re^{-i\\vec{k}_R \\cdot \\vec{r}}]$.\n",
        "\n",
        "That means from our data, we need to:\n",
        "1. Find and isolate the area of the digital hologram in reciprocal space that corresponds to $\\mathcal{F}[O(x,y)R^*(x,y)]$. HINT: It should be the one at positive $k_x$ and $k_y$.\n",
        "2. Find the reference frequency, $\\vec{k}_R$.\n",
        "3. Use the Fourier shift thm. to shift the digital hologram in reciprocal space.\n",
        "4. Take the inverse discrete Fourier Transform to obtain the electric fields that correspond to the incident + scattered field from the object.\n"
      ],
      "metadata": {
        "id": "czVwqHOrHqzp"
      }
    },
    {
      "cell_type": "markdown",
      "source": [
        "# Computational approach"
      ],
      "metadata": {
        "id": "sNonkgHo84by"
      }
    },
    {
      "cell_type": "markdown",
      "source": [
        "### load Python computational and plotting libraries"
      ],
      "metadata": {
        "id": "tunIgVGrADqB"
      }
    },
    {
      "cell_type": "code",
      "source": [
        "!pip install ipympl --quiet\n",
        "from google.colab import output\n",
        "output.enable_custom_widget_manager()"
      ],
      "metadata": {
        "id": "mxfQ5rQx3Dlu",
        "outputId": "18476f04-02b8-4006-8930-47703cdee3aa",
        "colab": {
          "base_uri": "https://localhost:8080/"
        }
      },
      "execution_count": null,
      "outputs": [
        {
          "output_type": "stream",
          "name": "stdout",
          "text": [
            "\u001b[2K     \u001b[90m━━━━━━━━━━━━━━━━━━━━━━━━━━━━━━━━━━━━━━━━\u001b[0m \u001b[32m511.6/511.6 kB\u001b[0m \u001b[31m7.2 MB/s\u001b[0m eta \u001b[36m0:00:00\u001b[0m\n",
            "\u001b[2K     \u001b[90m━━━━━━━━━━━━━━━━━━━━━━━━━━━━━━━━━━━━━━━━\u001b[0m \u001b[32m1.6/1.6 MB\u001b[0m \u001b[31m37.1 MB/s\u001b[0m eta \u001b[36m0:00:00\u001b[0m\n",
            "\u001b[?25h"
          ]
        }
      ]
    },
    {
      "cell_type": "code",
      "source": [
        "%matplotlib ipympl"
      ],
      "metadata": {
        "id": "SFzTUoDjVQzd"
      },
      "execution_count": null,
      "outputs": []
    },
    {
      "cell_type": "code",
      "source": [
        "import numpy as np\n",
        "import matplotlib.pyplot as plt\n",
        "import matplotlib.colors as colors\n",
        "from google.colab import files\n",
        "from tifffile import imread"
      ],
      "metadata": {
        "id": "1sq4frcLADcM"
      },
      "execution_count": null,
      "outputs": []
    },
    {
      "cell_type": "markdown",
      "source": [
        "### Load the raw off-axis hologram."
      ],
      "metadata": {
        "id": "UlHOEolI9yx_"
      }
    },
    {
      "cell_type": "markdown",
      "source": [
        "Upload and load data\n",
        "\n"
      ],
      "metadata": {
        "id": "pgHlJHOA2uQ0"
      }
    },
    {
      "cell_type": "code",
      "source": [
        "dict_files = files.upload()\n",
        "raw_data = imread(list(dict_files.keys())[0])"
      ],
      "metadata": {
        "id": "00HEU3jH2sI1"
      },
      "execution_count": null,
      "outputs": []
    },
    {
      "cell_type": "markdown",
      "source": [
        "### Create spatial coordinates using pixel spacing with center pixel corresponding to $(x=0,y=0)$.\n",
        "\n",
        "Remember that python ordering is yx for this array."
      ],
      "metadata": {
        "id": "MipwE50K9-9e"
      }
    },
    {
      "cell_type": "code",
      "source": [
        "camera_pixel_size = 0.078 # microns\n",
        "x_axis = np.arange(-raw_data.shape[1]/2,raw_data.shape[1]/2)*camera_pixel_size\n",
        "y_axis = np.arange(-raw_data.shape[0]/2,raw_data.shape[0]/2)*camera_pixel_size\n",
        "ny, nx = raw_data.shape"
      ],
      "metadata": {
        "id": "UOSGS3Sa-M8i"
      },
      "execution_count": null,
      "outputs": []
    },
    {
      "cell_type": "markdown",
      "source": [
        "### Calculate discrete Fourier Transform using [numpy.fft](https://numpy.org/doc/stable/reference/routines.fft.html). Ensure center pixel of FFT corresponds to $(k_x=0,k_y=0)$ and the pixel spacing is correct in reciprocal space."
      ],
      "metadata": {
        "id": "hFtoaDG0-NWO"
      }
    },
    {
      "cell_type": "code",
      "source": [
        "img_ft = np.fft.fftshift(np.fft.fft2(raw_data))\n",
        "\n",
        "fy_axis =  np.fft.fftshift(np.fft.fftfreq(raw_data.shape[0],d=camera_pixel_size))\n",
        "fx_axis = np.fft.fftshift(np.fft.fftfreq(raw_data.shape[1], d=camera_pixel_size))"
      ],
      "metadata": {
        "id": "4m1eTwSP-aKW"
      },
      "execution_count": null,
      "outputs": []
    },
    {
      "cell_type": "markdown",
      "source": [
        "### Determine reference beam frequency ($k_R$)."
      ],
      "metadata": {
        "id": "-TGk8U8D_D8l"
      }
    },
    {
      "cell_type": "code",
      "source": [
        "fx_R =\n",
        "fy_R =\n",
        "# right hand peak"
      ],
      "metadata": {
        "id": "5MKAMvcv_Kg9"
      },
      "execution_count": null,
      "outputs": []
    },
    {
      "cell_type": "markdown",
      "source": [
        "### Replot the data in matrix coordinates to figure out where to cut data out"
      ],
      "metadata": {
        "id": "WAOWasttIK9e"
      }
    },
    {
      "cell_type": "markdown",
      "source": [
        "### Define bounding box for off-axis hologram information to use"
      ],
      "metadata": {
        "id": "w8VEMOcG3r9g"
      }
    },
    {
      "cell_type": "code",
      "source": [],
      "metadata": {
        "id": "fqbb6Bqot-Tx"
      },
      "execution_count": null,
      "outputs": []
    },
    {
      "cell_type": "markdown",
      "source": [
        "### Clear data outside of desired off-axis component (either $\\mathcal{F}[O^*R]$ or $\\mathcal{F}[OR^*]$).\n",
        "\n",
        "Cut out the off-axis hologram, place it in the middle of a new array, and pad that array to match the size of our original hologram."
      ],
      "metadata": {
        "id": "b0B8G4dJ-wSg"
      }
    },
    {
      "cell_type": "code",
      "source": [],
      "metadata": {
        "id": "LIEplPSS_Lx8"
      },
      "execution_count": null,
      "outputs": []
    },
    {
      "cell_type": "markdown",
      "source": [
        "### Construct the reference beam matrix to use in the Fourier shift thm."
      ],
      "metadata": {
        "id": "XFKWq_Z5LFNE"
      }
    },
    {
      "cell_type": "code",
      "source": [],
      "metadata": {
        "id": "aD8XUMhuLLn9"
      },
      "execution_count": null,
      "outputs": []
    },
    {
      "cell_type": "markdown",
      "source": [
        "### Use Fourier shift thm. to recover $\\tilde{O}(k_x,k_y)$.\n",
        "\n",
        "Given img_ft(f), return the translated function\n",
        "\n",
        "img_ft_shifted(f) = img_ft(f + shift_frq)\n",
        "\n",
        "using the FFT shift relationship,\n",
        "\n",
        "img_ft(f + shift_frq) = F[ exp(-2*pi*i * shift_frq * r) * img(r) ]\n"
      ],
      "metadata": {
        "id": "XIYKLaVD_MUC"
      }
    },
    {
      "cell_type": "code",
      "source": [],
      "metadata": {
        "id": "OOpNGHJp_WK_"
      },
      "execution_count": null,
      "outputs": []
    },
    {
      "cell_type": "markdown",
      "source": [
        "Plot $\\tilde{O}(k_x,k_y)$."
      ],
      "metadata": {
        "id": "yDc0-65KUgKo"
      }
    },
    {
      "cell_type": "markdown",
      "source": [
        "### Finally, use the inverse FFT to recover $O(x,y)$."
      ],
      "metadata": {
        "id": "c0wXUhnF_sWi"
      }
    },
    {
      "cell_type": "code",
      "source": [],
      "metadata": {
        "id": "qiGNDqDKfl9w"
      },
      "execution_count": null,
      "outputs": []
    },
    {
      "cell_type": "markdown",
      "source": [
        "Plot $O(x,y)O^*(x,y)$."
      ],
      "metadata": {
        "id": "ZcgOgcyYTzGq"
      }
    },
    {
      "cell_type": "markdown",
      "source": [
        "Plot $Re(O(x,y))$"
      ],
      "metadata": {
        "id": "KNzfdw0cT5iE"
      }
    },
    {
      "cell_type": "markdown",
      "source": [
        "Plot $Im(O(x,y))$"
      ],
      "metadata": {
        "id": "7yY0nDNfUAjv"
      }
    },
    {
      "cell_type": "markdown",
      "source": [
        "### Does $O(x,y)$ match your expectations? What more can you learn about the object based on what we have done in class?"
      ],
      "metadata": {
        "id": "LCR8sLDPAvS0"
      }
    }
  ]
}